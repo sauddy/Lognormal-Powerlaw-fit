{
 "cells": [
  {
   "cell_type": "code",
   "execution_count": 1,
   "metadata": {},
   "outputs": [
    {
     "name": "stdout",
     "output_type": "stream",
     "text": [
      "New TP_class_module is imported\n"
     ]
    }
   ],
   "source": [
    "''' This script is developed to study the evolution of the NPDFS \n",
    "    OF MOLECULAR CLOUDS for various initial conditons.\n",
    "    \n",
    "    \n",
    "    Date Created : 20May 2019\n",
    "    Author  : Sayantan\n",
    "    \n",
    "    Model : TPB16V2 \n",
    "    Using the new TP_module\n",
    "    This was adopted from the new objected oriented module developed by Sayantan\n",
    "    \n",
    "    Output: \n",
    "    \n",
    "    Movie showing the evolution of the PDF\n",
    "    \n",
    "    \n",
    "'''\n",
    "\n",
    "# import TP_module as mf\n",
    "import glob\n",
    "import numpy as np\n",
    "import time as t\n",
    "import os.path\n",
    "import matplotlib.pyplot as plt\n",
    "from TP_class_module import *\n",
    "import multiprocessing as mp\n",
    "from pylab import*"
   ]
  },
  {
   "cell_type": "code",
   "execution_count": 2,
   "metadata": {},
   "outputs": [
    {
     "name": "stdout",
     "output_type": "stream",
     "text": [
      "the current directory in /Users/sayantan/Documents/Work/Projects/TRANSITION_PDF_17Dec18/TP_OOPS_25April_19/TP_V2_21_May19\n",
      "Creation of the directory %s failed/ not needed as it alread exit\n"
     ]
    }
   ],
   "source": [
    "Model = \"TP_B25_v30\"\n",
    "\n",
    "current_directory = os.getcwd() \n",
    "print(\"the current directory in\", current_directory)\n",
    "\n",
    "save_path1 = './time_evol_plots_'+ Model\n",
    "save_path = './fit_params_'+ Model\n",
    "# param_folder= current_directory + '/fit_params_'+ Model\n",
    "image_folder= current_directory + '/time_evol_plots_'+ Model\n",
    "\n",
    "# os.path.isdir(path)\n",
    "\n",
    "## Making the directory for the putput files\n",
    "try:  \n",
    "#     os.makedirs(param_folder)\n",
    "    os.makedirs(image_folder)\n",
    "except OSError:  \n",
    "    print (\"Creation of the directory %s failed/ not needed as it alread exit\")\n",
    "else:  \n",
    "    print (\"Successfully created the directory %s\")"
   ]
  },
  {
   "cell_type": "code",
   "execution_count": 3,
   "metadata": {},
   "outputs": [],
   "source": [
    "list_of_files = glob.glob('../evolution_data/'+ Model +'/*.dat')\n",
    "list = np.sort(list_of_files)\n",
    "bin = [50,100,150,200,250,295] \n",
    "b = bin[1]"
   ]
  },
  {
   "cell_type": "code",
   "execution_count": 4,
   "metadata": {},
   "outputs": [],
   "source": [
    "def do_plot(number):\n",
    "    fileName = list[number]\n",
    "    fig = plt.figure(number)\n",
    "    \n",
    "## for compiling in series for the for-loop and coment the fucntion ###\n",
    "# for fileName in list[123:150]:    \n",
    "    print(fileName)\n",
    "    \n",
    "### To check the intial data as a plot and to get the xdata and the ydata ###\n",
    "    MODEL = PDF_analysis(Model, fileName, binsize=150, upperlimit=None)    \n",
    "    xdata1, ydata1, ydata_not_normalized, norm_const = MODEL.fittingdata()\n",
    "#     fig = MODEL.plothist()\n",
    "#     plt.show()    \n",
    "    \n",
    "    #     ## to determine the time\n",
    "    time_step = int(fileName.replace('../evolution_data/'+ Model +'/colden_ev', '').replace('.dat', ''))\n",
    "    time_in_my = str((np.float(time_step)-10)*2.5*10**(-2))\n",
    "#     print(time_step)\n",
    "\n",
    "    ### Model Selection \n",
    "    MODEL_FIT_LG = Fitting_the_PDF(Model, fileName, binsize=b,function_to_fit=\"Lognormal\", bounds=((0, 0), (1, 1)))\n",
    "    MODEL_FIT_PW = Fitting_the_PDF(Model, fileName, binsize=b,function_to_fit=\"Piecewise\", bounds=((0, 0, -7, .5), (1, 1, -2, .7)))\n",
    "     \n",
    "    popt_lg, pcov_lg = MODEL_FIT_LG.model_fitting_parameters()\n",
    "    \n",
    "\n",
    "    popt, pcov =  MODEL_FIT_PW.model_fitting_parameters()\n",
    "#     print(r'$\\mu$=%5.2f, $\\sigma$=%5.2f, $\\alpha$=%5.2f, $\\eta_{\\rm {TP}}$=%5.2f' % tuple(popt))\n",
    "\n",
    "    ## To get the intial chi quare values for both lognormal and piecewise function it    \n",
    "    chisq_lg=MODEL_FIT_LG.get_chisquare_value(Best_fit_values=popt_lg)\n",
    "    chisq_lgpw=MODEL_FIT_PW.get_chisquare_value(Best_fit_values=popt)\n",
    "#     print(\"chisq lognormal+powerlaw (LC method)=\", chisq_lgpw)\n",
    "#     print(\"chisq lognormal(LC method)=\",chisq_lg )\n",
    "    \n",
    "   \n",
    "    \n",
    "    if (chisq_lgpw <= 0.8*chisq_lg or chisq_lg >20 or chisq_lgpw > 20) and popt[2]>-5 and popt[3]< np.max(xdata1):\n",
    "        \n",
    "        fig = MODEL_FIT_PW.get_fitted_plot(time_in_my=time_in_my, Method='PYMC',guess_value_for_pymc=popt)\n",
    "#         plt.show()\n",
    "    else:        \n",
    "        fig = MODEL_FIT_LG.get_fitted_plot(time_in_my=time_in_my)\n",
    "        \n",
    "    outputfilename_figfile = os.path.join(save_path1,'ev_'+str(time_step)+\".jpg\")\n",
    "    plt.savefig(outputfilename_figfile,format='jpg',dpi=300)  \n",
    "    plt.close()\n",
    "    "
   ]
  },
  {
   "cell_type": "code",
   "execution_count": 5,
   "metadata": {},
   "outputs": [
    {
     "name": "stdout",
     "output_type": "stream",
     "text": [
      "187\n",
      "Plotting now...\n",
      "../evolution_data/TP_B25_v30/colden_ev022.dat\n",
      "../evolution_data/TP_B25_v30/colden_ev046.dat\n",
      "../evolution_data/TP_B25_v30/colden_ev034.dat\n",
      "../evolution_data/TP_B25_v30/colden_ev010.dat\n"
     ]
    },
    {
     "name": "stderr",
     "output_type": "stream",
     "text": [
      "/anaconda3/lib/python3.6/site-packages/scipy/optimize/minpack.py:794: OptimizeWarning: Covariance of the parameters could not be estimated\n",
      "  category=OptimizeWarning)\n"
     ]
    },
    {
     "name": "stdout",
     "output_type": "stream",
     "text": [
      "../evolution_data/TP_B25_v30/colden_ev035.dat\n",
      "../evolution_data/TP_B25_v30/colden_ev023.dat\n",
      "../evolution_data/TP_B25_v30/colden_ev047.dat\n",
      "../evolution_data/TP_B25_v30/colden_ev011.dat\n",
      "../evolution_data/TP_B25_v30/colden_ev036.dat\n",
      "../evolution_data/TP_B25_v30/colden_ev024.dat\n",
      "../evolution_data/TP_B25_v30/colden_ev048.dat\n",
      "../evolution_data/TP_B25_v30/colden_ev012.dat\n",
      "../evolution_data/TP_B25_v30/colden_ev025.dat\n",
      "../evolution_data/TP_B25_v30/colden_ev037.dat\n",
      "../evolution_data/TP_B25_v30/colden_ev049.dat\n",
      "../evolution_data/TP_B25_v30/colden_ev013.dat\n",
      "../evolution_data/TP_B25_v30/colden_ev026.dat\n",
      "../evolution_data/TP_B25_v30/colden_ev038.dat\n",
      "../evolution_data/TP_B25_v30/colden_ev050.dat\n",
      "../evolution_data/TP_B25_v30/colden_ev014.dat\n",
      "../evolution_data/TP_B25_v30/colden_ev027.dat\n",
      "../evolution_data/TP_B25_v30/colden_ev039.dat\n",
      "../evolution_data/TP_B25_v30/colden_ev051.dat\n",
      "../evolution_data/TP_B25_v30/colden_ev015.dat\n",
      "../evolution_data/TP_B25_v30/colden_ev028.dat\n",
      "../evolution_data/TP_B25_v30/colden_ev040.dat\n",
      "../evolution_data/TP_B25_v30/colden_ev052.dat\n",
      "../evolution_data/TP_B25_v30/colden_ev016.dat\n",
      "../evolution_data/TP_B25_v30/colden_ev029.dat\n",
      "../evolution_data/TP_B25_v30/colden_ev041.dat\n",
      "../evolution_data/TP_B25_v30/colden_ev053.dat\n",
      "../evolution_data/TP_B25_v30/colden_ev017.dat\n",
      "../evolution_data/TP_B25_v30/colden_ev030.dat\n",
      "../evolution_data/TP_B25_v30/colden_ev042.dat\n",
      "../evolution_data/TP_B25_v30/colden_ev054.dat\n",
      "../evolution_data/TP_B25_v30/colden_ev018.dat\n",
      "../evolution_data/TP_B25_v30/colden_ev031.dat\n",
      "../evolution_data/TP_B25_v30/colden_ev055.dat\n",
      "../evolution_data/TP_B25_v30/colden_ev043.dat\n",
      "../evolution_data/TP_B25_v30/colden_ev019.dat\n",
      "../evolution_data/TP_B25_v30/colden_ev056.dat\n",
      "../evolution_data/TP_B25_v30/colden_ev032.dat\n",
      "../evolution_data/TP_B25_v30/colden_ev044.dat\n",
      "../evolution_data/TP_B25_v30/colden_ev020.dat\n",
      "../evolution_data/TP_B25_v30/colden_ev057.dat\n",
      "../evolution_data/TP_B25_v30/colden_ev033.dat\n",
      "../evolution_data/TP_B25_v30/colden_ev045.dat\n",
      "../evolution_data/TP_B25_v30/colden_ev021.dat\n",
      "../evolution_data/TP_B25_v30/colden_ev058.dat\n",
      "../evolution_data/TP_B25_v30/colden_ev070.dat\n",
      "../evolution_data/TP_B25_v30/colden_ev082.dat\n",
      "../evolution_data/TP_B25_v30/colden_ev094.dat\n",
      "../evolution_data/TP_B25_v30/colden_ev059.dat\n",
      "../evolution_data/TP_B25_v30/colden_ev071.dat\n",
      "../evolution_data/TP_B25_v30/colden_ev083.dat\n",
      "../evolution_data/TP_B25_v30/colden_ev095.dat\n",
      "../evolution_data/TP_B25_v30/colden_ev060.dat\n",
      "../evolution_data/TP_B25_v30/colden_ev072.dat\n",
      "../evolution_data/TP_B25_v30/colden_ev084.dat\n",
      "../evolution_data/TP_B25_v30/colden_ev096.dat\n",
      "../evolution_data/TP_B25_v30/colden_ev073.dat\n",
      "../evolution_data/TP_B25_v30/colden_ev061.dat\n",
      "../evolution_data/TP_B25_v30/colden_ev085.dat\n",
      "../evolution_data/TP_B25_v30/colden_ev097.dat\n",
      "../evolution_data/TP_B25_v30/colden_ev074.dat\n",
      "../evolution_data/TP_B25_v30/colden_ev062.dat\n",
      "../evolution_data/TP_B25_v30/colden_ev086.dat\n",
      "../evolution_data/TP_B25_v30/colden_ev098.dat\n",
      "../evolution_data/TP_B25_v30/colden_ev075.dat\n",
      "../evolution_data/TP_B25_v30/colden_ev063.dat\n",
      "../evolution_data/TP_B25_v30/colden_ev099.dat\n",
      "../evolution_data/TP_B25_v30/colden_ev087.dat\n"
     ]
    },
    {
     "name": "stderr",
     "output_type": "stream",
     "text": [
      "/Users/sayantan/Documents/Work/Projects/TRANSITION_PDF_17Dec18/TP_OOPS_25April_19/TP_V2_21_May19/TP_class_module.py:334: RuntimeWarning: invalid value encountered in log10\n",
      "  p1 = np.log10(np.log(10) * 1 / (np.sqrt(2 * np.pi) * sigma))\n"
     ]
    },
    {
     "name": "stdout",
     "output_type": "stream",
     "text": [
      " [--                5%                  ] 1062 of 20000 complete in 0.5 sec../evolution_data/TP_B25_v30/colden_ev076.dat\n",
      "../evolution_data/TP_B25_v30/colden_ev100.dat\n",
      "../evolution_data/TP_B25_v30/colden_ev088.dat\n",
      " [-------          19%                  ] 3998 of 20000 complete in 2.5 sec../evolution_data/TP_B25_v30/colden_ev077.dat\n",
      " [--------         23%                  ] 4642 of 20000 complete in 3.0 sec../evolution_data/TP_B25_v30/colden_ev101.dat\n",
      "../evolution_data/TP_B25_v30/colden_ev089.dat\n",
      " [----------       26%                  ] 5311 of 20000 complete in 3.5 sec"
     ]
    },
    {
     "name": "stderr",
     "output_type": "stream",
     "text": [
      "/anaconda3/lib/python3.6/site-packages/matplotlib/pyplot.py:514: RuntimeWarning: More than 20 figures have been opened. Figures created through the pyplot interface (`matplotlib.pyplot.figure`) are retained until explicitly closed and may consume too much memory. (To control this warning, see the rcParam `figure.max_open_warning`).\n",
      "  max_open_warning, RuntimeWarning)\n"
     ]
    },
    {
     "name": "stdout",
     "output_type": "stream",
     "text": [
      "\r",
      " [-----------      29%                  ] 5897 of 20000 complete in 4.0 sec"
     ]
    },
    {
     "name": "stderr",
     "output_type": "stream",
     "text": [
      "/anaconda3/lib/python3.6/site-packages/matplotlib/pyplot.py:514: RuntimeWarning: More than 20 figures have been opened. Figures created through the pyplot interface (`matplotlib.pyplot.figure`) are retained until explicitly closed and may consume too much memory. (To control this warning, see the rcParam `figure.max_open_warning`).\n",
      "  max_open_warning, RuntimeWarning)\n",
      "/anaconda3/lib/python3.6/site-packages/matplotlib/pyplot.py:514: RuntimeWarning: More than 20 figures have been opened. Figures created through the pyplot interface (`matplotlib.pyplot.figure`) are retained until explicitly closed and may consume too much memory. (To control this warning, see the rcParam `figure.max_open_warning`).\n",
      "  max_open_warning, RuntimeWarning)\n"
     ]
    },
    {
     "name": "stdout",
     "output_type": "stream",
     "text": [
      " [------------     33%                  ] 6626 of 20000 complete in 4.5 sec../evolution_data/TP_B25_v30/colden_ev078.dat\n",
      " [-------------    35%                  ] 7146 of 20000 complete in 5.0 sec../evolution_data/TP_B25_v30/colden_ev102.dat\n",
      "../evolution_data/TP_B25_v30/colden_ev090.dat\n",
      " [-----------------47%                  ] 9432 of 20000 complete in 7.0 sec../evolution_data/TP_B25_v30/colden_ev079.dat\n",
      " [-----------------50%                  ] 10032 of 20000 complete in 7.5 sec../evolution_data/TP_B25_v30/colden_ev103.dat\n",
      "../evolution_data/TP_B25_v30/colden_ev091.dat\n",
      " [-----------------62%---               ] 12444 of 20000 complete in 9.5 sec../evolution_data/TP_B25_v30/colden_ev080.dat\n",
      " [-----------------65%----              ] 13049 of 20000 complete in 10.0 sec../evolution_data/TP_B25_v30/colden_ev104.dat\n",
      "../evolution_data/TP_B25_v30/colden_ev092.dat\n",
      " [-----------------75%--------          ] 15162 of 20000 complete in 12.0 sec../evolution_data/TP_B25_v30/colden_ev081.dat\n",
      "../evolution_data/TP_B25_v30/colden_ev105.dat\n",
      " [-----------------79%----------        ] 15938 of 20000 complete in 12.5 sec../evolution_data/TP_B25_v30/colden_ev093.dat\n",
      " [-----------------88%-------------     ] 17764 of 20000 complete in 14.0 sec../evolution_data/TP_B25_v30/colden_ev106.dat\n",
      " [-----------------92%--------------    ] 18418 of 20000 complete in 14.5 sec../evolution_data/TP_B25_v30/colden_ev118.dat\n",
      "../evolution_data/TP_B25_v30/colden_ev130.dat\n",
      " [-----------------100%-----------------] 20000 of 20000 complete in 16.2 sec"
     ]
    },
    {
     "name": "stderr",
     "output_type": "stream",
     "text": [
      "/anaconda3/lib/python3.6/site-packages/numpy/core/fromnumeric.py:224: VisibleDeprecationWarning: using a non-integer number instead of an integer will result in an error in the future\n",
      "  return reshape(newshape, order=order)\n"
     ]
    },
    {
     "name": "stdout",
     "output_type": "stream",
     "text": [
      "../evolution_data/TP_B25_v30/colden_ev119.dat\n",
      "../evolution_data/TP_B25_v30/colden_ev107.dat\n",
      "../evolution_data/TP_B25_v30/colden_ev131.dat\n",
      "Best fit  using PYMC: mu= 0.58, sigma= 0.32, alpha=-0.86, TP= 0.81\n",
      "Err in best fit vals using PYMC: mu= 0.01, sigma= 0.00, alpha= 0.32, TP= 0.01\n",
      "../evolution_data/TP_B25_v30/colden_ev064.dat\n",
      "../evolution_data/TP_B25_v30/colden_ev120.dat\n",
      "../evolution_data/TP_B25_v30/colden_ev108.dat\n",
      "../evolution_data/TP_B25_v30/colden_ev132.dat\n",
      " [-                 4%                  ] 948 of 20000 complete in 0.5 sec../evolution_data/TP_B25_v30/colden_ev109.dat\n",
      "../evolution_data/TP_B25_v30/colden_ev121.dat\n",
      " [---               8%                  ] 1793 of 20000 complete in 1.0 sec../evolution_data/TP_B25_v30/colden_ev133.dat\n",
      " [---------        23%                  ] 4737 of 20000 complete in 3.0 sec../evolution_data/TP_B25_v30/colden_ev110.dat\n",
      "../evolution_data/TP_B25_v30/colden_ev122.dat\n",
      "../evolution_data/TP_B25_v30/colden_ev134.dat\n",
      " [-------------    36%                  ] 7317 of 20000 complete in 5.0 sec../evolution_data/TP_B25_v30/colden_ev111.dat\n",
      "../evolution_data/TP_B25_v30/colden_ev123.dat\n",
      "../evolution_data/TP_B25_v30/colden_ev135.dat\n",
      " [-----------------49%                  ] 9901 of 20000 complete in 7.0 sec../evolution_data/TP_B25_v30/colden_ev112.dat\n",
      "../evolution_data/TP_B25_v30/colden_ev124.dat\n",
      "../evolution_data/TP_B25_v30/colden_ev136.dat\n",
      " [-----------------58%--                ] 11701 of 20000 complete in 8.5 sec"
     ]
    },
    {
     "name": "stderr",
     "output_type": "stream",
     "text": [
      "/Users/sayantan/Documents/Work/Projects/TRANSITION_PDF_17Dec18/TP_OOPS_25April_19/TP_V2_21_May19/TP_class_module.py:334: RuntimeWarning: invalid value encountered in log10\n",
      "  p1 = np.log10(np.log(10) * 1 / (np.sqrt(2 * np.pi) * sigma))\n"
     ]
    },
    {
     "name": "stdout",
     "output_type": "stream",
     "text": [
      " [-                 4%                  ] 914 of 20000 complete in 0.5 secec../evolution_data/TP_B25_v30/colden_ev125.dat\n",
      " [-----------------64%----              ] 12958 of 20000 complete in 9.5 sec../evolution_data/TP_B25_v30/colden_ev113.dat\n",
      " [-----------------77%---------         ] 15471 of 20000 complete in 12.0 sec../evolution_data/TP_B25_v30/colden_ev126.dat\n",
      "../evolution_data/TP_B25_v30/colden_ev114.dat\n",
      " [-----------------90%--------------    ] 18089 of 20000 complete in 14.0 sec../evolution_data/TP_B25_v30/colden_ev127.dat\n",
      "../evolution_data/TP_B25_v30/colden_ev115.dat\n",
      " [---------------- 44%                  ] 8822 of 20000 complete in 7.0 secec../evolution_data/TP_B25_v30/colden_ev128.dat\n",
      "../evolution_data/TP_B25_v30/colden_ev116.dat\n",
      " [-----------------53%                  ] 10785 of 20000 complete in 8.5 secBest fit  using PYMC: mu= 0.58, sigma= 0.33, alpha=-1.26, TP= 0.81\n",
      "Err in best fit vals using PYMC: mu= 0.01, sigma= 0.00, alpha= 0.27, TP= 0.01\n",
      " [-----------------57%-                 ] 11430 of 20000 complete in 9.0 sec../evolution_data/TP_B25_v30/colden_ev129.dat\n",
      " [-----------------60%--                ] 12032 of 20000 complete in 9.5 sec../evolution_data/TP_B25_v30/colden_ev065.dat\n",
      "../evolution_data/TP_B25_v30/colden_ev117.dat\n",
      " [-----------------66%-----             ] 13351 of 20000 complete in 10.5 sec"
     ]
    },
    {
     "name": "stderr",
     "output_type": "stream",
     "text": [
      "/anaconda3/lib/python3.6/site-packages/matplotlib/pyplot.py:514: RuntimeWarning: More than 20 figures have been opened. Figures created through the pyplot interface (`matplotlib.pyplot.figure`) are retained until explicitly closed and may consume too much memory. (To control this warning, see the rcParam `figure.max_open_warning`).\n",
      "  max_open_warning, RuntimeWarning)\n"
     ]
    },
    {
     "name": "stdout",
     "output_type": "stream",
     "text": [
      " [-                 4%                  ] 823 of 20000 complete in 0.5 secsec../evolution_data/TP_B25_v30/colden_ev142.dat\n",
      " [-----------------73%-------           ] 14625 of 20000 complete in 11.5 sec../evolution_data/TP_B25_v30/colden_ev154.dat\n",
      " [-----            15%                  ] 3063 of 20000 complete in 2.0 secec"
     ]
    },
    {
     "name": "stderr",
     "output_type": "stream",
     "text": [
      "/Users/sayantan/Documents/Work/Projects/TRANSITION_PDF_17Dec18/TP_OOPS_25April_19/TP_V2_21_May19/TP_class_module.py:334: RuntimeWarning: invalid value encountered in log10\n",
      "  p1 = np.log10(np.log(10) * 1 / (np.sqrt(2 * np.pi) * sigma))\n"
     ]
    },
    {
     "name": "stdout",
     "output_type": "stream",
     "text": [
      " [-                 4%                  ] 971 of 20000 complete in 0.5 secsec"
     ]
    },
    {
     "name": "stderr",
     "output_type": "stream",
     "text": [
      "/Users/sayantan/Documents/Work/Projects/TRANSITION_PDF_17Dec18/TP_OOPS_25April_19/TP_V2_21_May19/TP_class_module.py:334: RuntimeWarning: invalid value encountered in log10\n",
      "  p1 = np.log10(np.log(10) * 1 / (np.sqrt(2 * np.pi) * sigma))\n"
     ]
    },
    {
     "name": "stdout",
     "output_type": "stream",
     "text": [
      " [-----------------100%-----------------] 20000 of 20000 complete in 15.6 sec"
     ]
    },
    {
     "name": "stderr",
     "output_type": "stream",
     "text": [
      "/anaconda3/lib/python3.6/site-packages/numpy/core/fromnumeric.py:224: VisibleDeprecationWarning: using a non-integer number instead of an integer will result in an error in the future\n",
      "  return reshape(newshape, order=order)\n"
     ]
    },
    {
     "name": "stdout",
     "output_type": "stream",
     "text": [
      " [-------------    34%                  ] 6901 of 20000 complete in 5.0 secBest fit  using PYMC: mu= 0.62, sigma= 0.39, alpha=-4.55, TP= 0.40\n",
      "Err in best fit vals using PYMC: mu= 0.02, sigma= 0.01, alpha= 0.18, TP= 0.02\n",
      " [--------------   37%                  ] 7531 of 20000 complete in 5.5 secc../evolution_data/TP_B25_v30/colden_ev137.dat\n",
      " [-----------------100%-----------------] 20000 of 20000 complete in 14.0 sec"
     ]
    },
    {
     "name": "stderr",
     "output_type": "stream",
     "text": [
      "/anaconda3/lib/python3.6/site-packages/numpy/core/fromnumeric.py:224: VisibleDeprecationWarning: using a non-integer number instead of an integer will result in an error in the future\n",
      "  return reshape(newshape, order=order)\n"
     ]
    },
    {
     "name": "stdout",
     "output_type": "stream",
     "text": [
      " [-----------------58%--                ] 11634 of 20000 complete in 7.5 seccBest fit  using PYMC: mu= 0.57, sigma= 0.34, alpha=-1.81, TP= 0.81\n",
      "Err in best fit vals using PYMC: mu= 0.01, sigma= 0.00, alpha= 0.33, TP= 0.01\n",
      " [-----------------61%---               ] 12376 of 20000 complete in 8.0 secc"
     ]
    },
    {
     "name": "stderr",
     "output_type": "stream",
     "text": [
      "/anaconda3/lib/python3.6/site-packages/numpy/core/fromnumeric.py:224: VisibleDeprecationWarning: using a non-integer number instead of an integer will result in an error in the future\n",
      "  return reshape(newshape, order=order)\n"
     ]
    },
    {
     "name": "stdout",
     "output_type": "stream",
     "text": [
      "../evolution_data/TP_B25_v30/colden_ev066.dat\n",
      " [-----------------67%-----             ] 13578 of 20000 complete in 9.0 secBest fit  using PYMC: mu= 0.58, sigma= 0.35, alpha=-4.68, TP= 0.51\n",
      "Err in best fit vals using PYMC: mu= 0.01, sigma= 0.01, alpha= 0.31, TP= 0.05\n",
      " [-----------------71%-------           ] 14211 of 20000 complete in 9.5 sec../evolution_data/TP_B25_v30/colden_ev143.dat\n",
      " [--                5%                  ] 1108 of 20000 complete in 0.5 sececBest fit  using PYMC: mu= 0.54, sigma= 0.33, alpha=-3.55, TP= 0.40\n",
      "Err in best fit vals using PYMC: mu= 0.02, sigma= 0.01, alpha= 0.19, TP= 0.04\n",
      " [---               9%                  ] 1947 of 20000 complete in 1.0 secec../evolution_data/TP_B25_v30/colden_ev155.dat\n",
      " [--------------   37%                  ] 7521 of 20000 complete in 5.0 sececBest fit  using PYMC: mu= 0.61, sigma= 0.38, alpha=-4.42, TP= 0.44\n",
      "Err in best fit vals using PYMC: mu= 0.02, sigma= 0.01, alpha= 0.38, TP= 0.08\n",
      " [-----------------52%                  ] 10477 of 20000 complete in 7.1 sec../evolution_data/TP_B25_v30/colden_ev138.dat\n",
      " [-----------------57%-                 ] 11409 of 20000 complete in 8.0 seccBest fit  using PYMC: mu= 0.57, sigma= 0.36, alpha=-2.29, TP= 0.81\n",
      "Err in best fit vals using PYMC: mu= 0.01, sigma= 0.00, alpha= 0.37, TP= 0.01\n",
      " [-----------------60%---               ] 12169 of 20000 complete in 8.5 secc../evolution_data/TP_B25_v30/colden_ev067.dat\n",
      " [-----------------98%----------------- ] 19784 of 20000 complete in 16.5 secBest fit  using PYMC: mu= 0.59, sigma= 0.36, alpha=-4.71, TP= 0.53\n",
      "Err in best fit vals using PYMC: mu= 0.01, sigma= 0.01, alpha= 0.47, TP= 0.07\n",
      " [-----------------69%------            ] 13988 of 20000 complete in 10.0 sec../evolution_data/TP_B25_v30/colden_ev144.dat\n",
      " [-----------------76%--------          ] 15210 of 20000 complete in 11.0 sec../evolution_data/TP_B25_v30/colden_ev068.dat\n",
      " [-----------------80%----------        ] 16145 of 20000 complete in 12.1 secBest fit  using PYMC: mu= 0.55, sigma= 0.33, alpha=-3.59, TP= 0.42\n",
      "Err in best fit vals using PYMC: mu= 0.02, sigma= 0.01, alpha= 0.19, TP= 0.04\n",
      " [-----------------83%-----------       ] 16779 of 20000 complete in 12.6 sec../evolution_data/TP_B25_v30/colden_ev145.dat\n",
      " [-----------------87%-------------     ] 17456 of 20000 complete in 13.1 sec../evolution_data/TP_B25_v30/colden_ev156.dat\n",
      " [-----------------90%--------------    ] 18034 of 20000 complete in 13.6 sec../evolution_data/TP_B25_v30/colden_ev069.dat\n",
      " [-----------------94%---------------   ] 18925 of 20000 complete in 14.6 sec../evolution_data/TP_B25_v30/colden_ev146.dat\n",
      " [---               9%                  ] 1846 of 20000 complete in 1.6 secec../evolution_data/TP_B25_v30/colden_ev167.dat\n",
      " [------           16%                  ] 3255 of 20000 complete in 2.6 sec../evolution_data/TP_B25_v30/colden_ev147.dat\n",
      " [-------          19%                  ] 3900 of 20000 complete in 3.1 secBest fit  using PYMC: mu= 0.59, sigma= 0.37, alpha=-4.39, TP= 0.48\n",
      "Err in best fit vals using PYMC: mu= 0.02, sigma= 0.01, alpha= 0.47, TP= 0.09\n",
      " [--------         22%                  ] 4486 of 20000 complete in 3.6 sec../evolution_data/TP_B25_v30/colden_ev168.dat\n",
      "../evolution_data/TP_B25_v30/colden_ev139.dat\n",
      " [-----------      29%                  ] 5835 of 20000 complete in 4.6 sec../evolution_data/TP_B25_v30/colden_ev148.dat\n",
      " [-------------    36%                  ] 7256 of 20000 complete in 6.1 sec../evolution_data/TP_B25_v30/colden_ev169.dat\n",
      " [----             13%                  ] 2614 of 20000 complete in 2.0 sec../evolution_data/TP_B25_v30/colden_ev149.dat\n",
      " [-------          20%                  ] 4009 of 20000 complete in 3.0 sec../evolution_data/TP_B25_v30/colden_ev171.dat\n",
      " [-----------------55%-                 ] 11166 of 20000 complete in 9.6 sec../evolution_data/TP_B25_v30/colden_ev150.dat\n",
      " [-----------------61%---               ] 12352 of 20000 complete in 10.6 sec../evolution_data/TP_B25_v30/colden_ev172.dat\n",
      " [-----------------69%------            ] 13999 of 20000 complete in 12.1 sec../evolution_data/TP_B25_v30/colden_ev151.dat\n",
      " [-----------------75%--------          ] 15135 of 20000 complete in 13.1 sec../evolution_data/TP_B25_v30/colden_ev173.dat\n",
      " [-----------------89%--------------    ] 17956 of 20000 complete in 15.6 sec../evolution_data/TP_B25_v30/colden_ev174.dat\n",
      " [---------------  39%                  ] 7956 of 20000 complete in 5.5 sececBest fit  using PYMC: mu= 0.56, sigma= 0.34, alpha=-3.75, TP= 0.43\n",
      "Err in best fit vals using PYMC: mu= 0.02, sigma= 0.01, alpha= 0.21, TP= 0.04\n",
      " [---------------- 43%                  ] 8694 of 20000 complete in 6.0 secec../evolution_data/TP_B25_v30/colden_ev157.dat\n",
      " [-----------------100%-----------------] 20000 of 20000 complete in 16.2 sec../evolution_data/TP_B25_v30/colden_ev158.dat\n",
      " [-----------------69%------            ] 13994 of 20000 complete in 10.0 sec../evolution_data/TP_B25_v30/colden_ev160.dat\n",
      " [-----------------51%                  ] 10322 of 20000 complete in 7.0 secBest fit  using PYMC: mu= 0.58, sigma= 0.36, alpha=-4.37, TP= 0.51\n",
      "Err in best fit vals using PYMC: mu= 0.02, sigma= 0.01, alpha= 0.53, TP= 0.08\n",
      " [-----------------77%---------         ] 15433 of 20000 complete in 11.0 sec../evolution_data/TP_B25_v30/colden_ev140.dat\n",
      " [-----------------85%------------      ] 17192 of 20000 complete in 12.5 sec../evolution_data/TP_B25_v30/colden_ev161.dat\n",
      " [-----------------99%----------------- ] 19885 of 20000 complete in 14.5 sec../evolution_data/TP_B25_v30/colden_ev162.dat\n",
      " [-----------------90%--------------    ] 18151 of 20000 complete in 13.0 sec../evolution_data/TP_B25_v30/colden_ev163.dat\n",
      " [-----------------94%---------------   ] 18837 of 20000 complete in 13.5 secBest fit  using PYMC: mu= 0.55, sigma= 0.32, alpha=-3.67, TP= 0.40\n",
      "Err in best fit vals using PYMC: mu= 0.02, sigma= 0.01, alpha= 0.24, TP= 0.04\n",
      " [--------------   37%                  ] 7419 of 20000 complete in 5.0 secec../evolution_data/TP_B25_v30/colden_ev152.dat\n",
      " [---------------- 42%                  ] 8557 of 20000 complete in 6.0 secec../evolution_data/TP_B25_v30/colden_ev164.dat\n",
      " [---               9%                  ] 1803 of 20000 complete in 1.0 seccBest fit  using PYMC: mu= 0.58, sigma= 0.32, alpha=-4.21, TP= 0.45\n",
      "Err in best fit vals using PYMC: mu= 0.01, sigma= 0.01, alpha= 0.18, TP= 0.04\n",
      " [----             12%                  ] 2545 of 20000 complete in 1.5 secc../evolution_data/TP_B25_v30/colden_ev165.dat\n",
      "../evolution_data/TP_B25_v30/colden_ev175.dat\n",
      " [-                 4%                  ] 885 of 20000 complete in 0.5 seccec../evolution_data/TP_B25_v30/colden_ev166.dat\n",
      " [-------          19%                  ] 3915 of 20000 complete in 2.5 secec../evolution_data/TP_B25_v30/colden_ev180.dat\n",
      " [----------       26%                  ] 5364 of 20000 complete in 3.0 secccBest fit  using PYMC: mu= 0.58, sigma= 0.36, alpha=-4.51, TP= 0.51\n",
      "Err in best fit vals using PYMC: mu= 0.01, sigma= 0.01, alpha= 0.29, TP= 0.06\n",
      " [-----------------79%----------        ] 15918 of 20000 complete in 11.0 sec../evolution_data/TP_B25_v30/colden_ev141.dat\n",
      " [----------       28%                  ] 5787 of 20000 complete in 3.5 secccBest fit  using PYMC: mu= 0.54, sigma= 0.32, alpha=-3.56, TP= 0.39\n",
      " [-----------------91%--------------    ] 18305 of 20000 complete in 13.0 secErr in best fit vals using PYMC: mu= 0.02, sigma= 0.01, alpha= 0.23, TP= 0.05\n",
      " [-------------    34%                  ] 6967 of 20000 complete in 4.5 seccc../evolution_data/TP_B25_v30/colden_ev153.dat\n",
      " [---               9%                  ] 1832 of 20000 complete in 1.0 secccBest fit  using PYMC: mu= 0.57, sigma= 0.32, alpha=-4.05, TP= 0.43\n",
      "Err in best fit vals using PYMC: mu= 0.01, sigma= 0.01, alpha= 0.16, TP= 0.03\n",
      " [-----------------96%----------------  ] 19327 of 20000 complete in 13.5 sec../evolution_data/TP_B25_v30/colden_ev176.dat\n",
      " [------------     33%                  ] 6660 of 20000 complete in 4.5 sececBest fit  using PYMC: mu= 0.55, sigma= 0.31, alpha=-3.97, TP= 0.40\n",
      "Err in best fit vals using PYMC: mu= 0.02, sigma= 0.01, alpha= 0.19, TP= 0.04\n",
      " [------           17%                  ] 3477 of 20000 complete in 2.0 secec../evolution_data/TP_B25_v30/colden_ev181.dat\n"
     ]
    },
    {
     "name": "stdout",
     "output_type": "stream",
     "text": [
      " [-----------------56%-                 ] 11266 of 20000 complete in 7.5 seccBest fit  using PYMC: mu= 0.58, sigma= 0.36, alpha=-4.61, TP= 0.51\n",
      "Err in best fit vals using PYMC: mu= 0.01, sigma= 0.01, alpha= 0.27, TP= 0.06\n",
      " [-----------------79%----------        ] 15804 of 20000 complete in 11.5 sec../evolution_data/TP_B25_v30/colden_ev192.dat\n",
      " [-----------------98%----------------- ] 19685 of 20000 complete in 13.5 secBest fit  using PYMC: mu= 0.53, sigma= 0.32, alpha=-3.50, TP= 0.39\n",
      "Err in best fit vals using PYMC: mu= 0.02, sigma= 0.01, alpha= 0.21, TP= 0.04\n",
      " [-----------------46%                  ] 9313 of 20000 complete in 6.0 sececBest fit  using PYMC: mu= 0.57, sigma= 0.31, alpha=-3.98, TP= 0.42\n",
      "Err in best fit vals using PYMC: mu= 0.01, sigma= 0.01, alpha= 0.14, TP= 0.03\n",
      " [-----------------100%-----------------] 20000 of 20000 complete in 13.2 sec../evolution_data/TP_B25_v30/colden_ev177.dat\n",
      " [-----------------68%-----             ] 13608 of 20000 complete in 9.0 secBest fit  using PYMC: mu= 0.55, sigma= 0.31, alpha=-3.96, TP= 0.40\n",
      "Err in best fit vals using PYMC: mu= 0.02, sigma= 0.01, alpha= 0.20, TP= 0.04\n",
      " [-----            14%                  ] 2953 of 20000 complete in 1.5 secc../evolution_data/TP_B25_v30/colden_ev182.dat\n",
      " [--------------   39%                  ] 7803 of 20000 complete in 4.5 secccBest fit  using PYMC: mu= 0.55, sigma= 0.32, alpha=-4.07, TP= 0.43\n",
      "Err in best fit vals using PYMC: mu= 0.03, sigma= 0.01, alpha= 0.15, TP= 0.05\n",
      " [-----------------66%-----             ] 13243 of 20000 complete in 8.0 sec../evolution_data/TP_B25_v30/colden_ev193.dat\n",
      " [---------------- 42%                  ] 8545 of 20000 complete in 5.0 sececBest fit  using PYMC: mu= 0.56, sigma= 0.31, alpha=-3.91, TP= 0.41\n",
      "Err in best fit vals using PYMC: mu= 0.02, sigma= 0.01, alpha= 0.16, TP= 0.04\n",
      " [-----------------46%                  ] 9348 of 20000 complete in 5.5 secec../evolution_data/TP_B25_v30/colden_ev178.dat\n",
      " [-----------------62%---               ] 12415 of 20000 complete in 7.5 seccBest fit  using PYMC: mu= 0.54, sigma= 0.30, alpha=-3.94, TP= 0.40\n",
      "Err in best fit vals using PYMC: mu= 0.03, sigma= 0.01, alpha= 0.20, TP= 0.04\n",
      " [-----------------70%------            ] 14009 of 20000 complete in 8.5 sec../evolution_data/TP_B25_v30/colden_ev183.dat\n",
      " [-----------------61%---               ] 12385 of 20000 complete in 7.5 seccBest fit  using PYMC: mu= 0.55, sigma= 0.33, alpha=-4.03, TP= 0.43\n",
      "Err in best fit vals using PYMC: mu= 0.03, sigma= 0.01, alpha= 0.14, TP= 0.05\n",
      " [-----------------65%-----             ] 13160 of 20000 complete in 8.0 sec../evolution_data/TP_B25_v30/colden_ev194.dat\n",
      " [-----------------94%---------------   ] 18933 of 20000 complete in 11.5 secBest fit  using PYMC: mu= 0.56, sigma= 0.31, alpha=-3.96, TP= 0.41\n",
      "Err in best fit vals using PYMC: mu= 0.02, sigma= 0.01, alpha= 0.18, TP= 0.04\n",
      " [-----------------100%-----------------] 20000 of 20000 complete in 12.2 sec../evolution_data/TP_B25_v30/colden_ev179.dat\n",
      " [-----------------60%--                ] 12059 of 20000 complete in 7.5 secBest fit  using PYMC: mu= 0.54, sigma= 0.30, alpha=-3.94, TP= 0.40\n",
      "Err in best fit vals using PYMC: mu= 0.02, sigma= 0.01, alpha= 0.19, TP= 0.04\n",
      " [-----            14%                  ] 2992 of 20000 complete in 1.5 secc../evolution_data/TP_B25_v30/colden_ev184.dat\n",
      " [-----------------66%-----             ] 13323 of 20000 complete in 8.0 seccBest fit  using PYMC: mu= 0.55, sigma= 0.33, alpha=-3.95, TP= 0.43\n",
      "Err in best fit vals using PYMC: mu= 0.03, sigma= 0.01, alpha= 0.13, TP= 0.06\n",
      " [-----------------51%                  ] 10206 of 20000 complete in 6.0 sec../evolution_data/TP_B25_v30/colden_ev195.dat\n",
      " [-----------------94%---------------   ] 18889 of 20000 complete in 11.5 secBest fit  using PYMC: mu= 0.55, sigma= 0.31, alpha=-3.94, TP= 0.40\n",
      "Err in best fit vals using PYMC: mu= 0.02, sigma= 0.01, alpha= 0.19, TP= 0.04\n",
      " [-----------------55%-                 ] 11087 of 20000 complete in 6.5 seccBest fit  using PYMC: mu= 0.54, sigma= 0.31, alpha=-3.99, TP= 0.40\n",
      "Err in best fit vals using PYMC: mu= 0.02, sigma= 0.01, alpha= 0.19, TP= 0.04\n",
      " [-----------------63%----              ] 12690 of 20000 complete in 7.5 sec../evolution_data/TP_B25_v30/colden_ev185.dat\n",
      " [-----------------45%                  ] 9063 of 20000 complete in 5.0 sececBest fit  using PYMC: mu= 0.52, sigma= 0.31, alpha=-3.77, TP= 0.39\n",
      "Err in best fit vals using PYMC: mu= 0.03, sigma= 0.01, alpha= 0.11, TP= 0.05\n",
      " [-----------------53%                  ] 10714 of 20000 complete in 6.0 sec../evolution_data/TP_B25_v30/colden_ev196.dat\n",
      " [-----------------50%                  ] 10139 of 20000 complete in 6.0 seccBest fit  using PYMC: mu= 0.55, sigma= 0.31, alpha=-4.04, TP= 0.41\n",
      "Err in best fit vals using PYMC: mu= 0.03, sigma= 0.01, alpha= 0.20, TP= 0.04\n",
      " [-----------------54%                  ] 10883 of 20000 complete in 6.5 sec../evolution_data/TP_B25_v30/colden_ev186.dat\n",
      " [-----------------56%-                 ] 11335 of 20000 complete in 6.5 seccBest fit  using PYMC: mu= 0.50, sigma= 0.31, alpha=-3.64, TP= 0.38\n",
      "Err in best fit vals using PYMC: mu= 0.04, sigma= 0.02, alpha= 0.12, TP= 0.07\n",
      " [-----------------60%---               ] 12139 of 20000 complete in 7.0 sec../evolution_data/TP_B25_v30/colden_ev197.dat\n",
      " [-----------------48%                  ] 9728 of 20000 complete in 5.5 sececBest fit  using PYMC: mu= 0.55, sigma= 0.31, alpha=-4.11, TP= 0.41\n",
      "Err in best fit vals using PYMC: mu= 0.03, sigma= 0.01, alpha= 0.21, TP= 0.04\n",
      " [-----------------52%                  ] 10553 of 20000 complete in 6.0 sec../evolution_data/TP_B25_v30/colden_ev187.dat\n",
      " [-----------------56%-                 ] 11343 of 20000 complete in 6.5 seccBest fit  using PYMC: mu= 0.47, sigma= 0.29, alpha=-3.51, TP= 0.34\n",
      "Err in best fit vals using PYMC: mu= 0.04, sigma= 0.02, alpha= 0.09, TP= 0.06\n",
      " [-----------------60%---               ] 12166 of 20000 complete in 7.0 sec../evolution_data/TP_B25_v30/colden_ev198.dat\n",
      " [-----------------47%                  ] 9463 of 20000 complete in 5.5 sececBest fit  using PYMC: mu= 0.55, sigma= 0.31, alpha=-4.12, TP= 0.42\n",
      "Err in best fit vals using PYMC: mu= 0.03, sigma= 0.01, alpha= 0.21, TP= 0.05\n",
      " [-----------------51%                  ] 10257 of 20000 complete in 6.0 sec../evolution_data/TP_B25_v30/colden_ev188.dat\n",
      " [-----------------58%--                ] 11615 of 20000 complete in 6.5 seccBest fit  using PYMC: mu= 0.64, sigma= 0.38, alpha=-2.65, TP= 0.78\n",
      "Err in best fit vals using PYMC: mu= 0.03, sigma= 0.01, alpha= 0.25, TP= 0.05\n",
      " [-----------------100%-----------------] 20000 of 20000 complete in 11.6 secBest fit  using PYMC: mu= 0.56, sigma= 0.31, alpha=-4.15, TP= 0.42\n",
      "Err in best fit vals using PYMC: mu= 0.03, sigma= 0.01, alpha= 0.21, TP= 0.05\n",
      "../evolution_data/TP_B25_v30/colden_ev189.dat\n",
      " [-----------------100%-----------------] 20000 of 20000 complete in 11.5 secBest fit  using PYMC: mu= 0.56, sigma= 0.32, alpha=-4.16, TP= 0.43\n",
      "Err in best fit vals using PYMC: mu= 0.03, sigma= 0.01, alpha= 0.18, TP= 0.05\n",
      "../evolution_data/TP_B25_v30/colden_ev190.dat\n",
      " [-----------------100%-----------------] 20000 of 20000 complete in 11.6 secBest fit  using PYMC: mu= 0.56, sigma= 0.32, alpha=-4.15, TP= 0.43\n",
      "Err in best fit vals using PYMC: mu= 0.02, sigma= 0.01, alpha= 0.17, TP= 0.05\n",
      "../evolution_data/TP_B25_v30/colden_ev191.dat\n",
      " [-----------------100%-----------------] 20000 of 20000 complete in 12.3 secBest fit  using PYMC: mu= 0.55, sigma= 0.32, alpha=-4.11, TP= 0.43\n",
      "Err in best fit vals using PYMC: mu= 0.03, sigma= 0.01, alpha= 0.17, TP= 0.05\n",
      "End of simulation\n",
      "Total time for parallel run 352.74 sec\n"
     ]
    }
   ],
   "source": [
    "number_of_timestep = len(list)\n",
    "# start_point = \n",
    "# end_point =\n",
    "print(number_of_timestep)\n",
    "\n",
    "# number_of_orbit = 10\n",
    "start = time.time()\n",
    "print(\"Plotting now...\")\n",
    "if __name__ == '__main__':\n",
    "    pool = mp.Pool()\n",
    "    pool.map(do_plot, range(0,number_of_timestep,1))\n",
    "print(\"End of simulation\")    \n",
    "end = t.time()\n",
    "T = end-start\n",
    "print(\"Total time for parallel run %.2f\"%T, 'sec')"
   ]
  },
  {
   "cell_type": "code",
   "execution_count": 6,
   "metadata": {},
   "outputs": [
    {
     "name": "stdout",
     "output_type": "stream",
     "text": [
      "Making the Video\n",
      "The video is done\n"
     ]
    }
   ],
   "source": [
    "import cv2\n",
    "print(\"Making the Video\")\n",
    "\n",
    "image_folder = save_path1 \n",
    "video_name = 'video_'+ Model +'.mov'\n",
    "if os.path.isfile(video_name):\n",
    "    print(\"Removing the old video and making the new one\")\n",
    "    os.remove(video_name)\n",
    "\n",
    "image = [img for img in os.listdir(image_folder) if img.endswith(\".jpg\")]\n",
    "## sorting the images in ascending order of time\n",
    "images= sorted(image, key=lambda x: int(x.replace(\"ev_\", '').replace('.jpg', '')))\n",
    "# images =sorted(image)\n",
    "# print(images)\n",
    "frame = cv2.imread(os.path.join(image_folder, images[0]))\n",
    "height, width, layers = frame.shape\n",
    "\n",
    "video = cv2.VideoWriter(video_name, -1, 13, (width,height))\n",
    "\n",
    "for image in images:\n",
    "    video.write(cv2.imread(os.path.join(image_folder, image)))\n",
    "\n",
    "cv2.destroyAllWindows()\n",
    "video.release()\n",
    "\n",
    "print(\"The video is done\")"
   ]
  },
  {
   "cell_type": "code",
   "execution_count": 7,
   "metadata": {},
   "outputs": [],
   "source": [
    "## This is delete all the images to save space\n",
    "fileList = os.listdir(save_path1)\n",
    "\n",
    "for fileName in fileList:\n",
    "#     print(fileName)\n",
    "    os.remove(save_path1+\"/\"+fileName)"
   ]
  },
  {
   "cell_type": "code",
   "execution_count": null,
   "metadata": {},
   "outputs": [],
   "source": []
  }
 ],
 "metadata": {
  "kernelspec": {
   "display_name": "Python 3",
   "language": "python",
   "name": "python3"
  },
  "language_info": {
   "codemirror_mode": {
    "name": "ipython",
    "version": 3
   },
   "file_extension": ".py",
   "mimetype": "text/x-python",
   "name": "python",
   "nbconvert_exporter": "python",
   "pygments_lexer": "ipython3",
   "version": "3.6.8"
  }
 },
 "nbformat": 4,
 "nbformat_minor": 2
}
